{
  "nbformat": 4,
  "nbformat_minor": 0,
  "metadata": {
    "colab": {
      "name": "Trabalho1 - Módulo 2 - Modelos Preditivos e Séries Temporais.ipynb",
      "provenance": [],
      "collapsed_sections": [],
      "authorship_tag": "ABX9TyNMjirhJee4NDi9d/+EyF8G",
      "include_colab_link": true
    },
    "kernelspec": {
      "name": "python3",
      "display_name": "Python 3"
    },
    "language_info": {
      "name": "python"
    }
  },
  "cells": [
    {
      "cell_type": "markdown",
      "metadata": {
        "id": "view-in-github",
        "colab_type": "text"
      },
      "source": [
        "<a href=\"https://colab.research.google.com/github/vivirocha/Bootcamp_MachineLearning/blob/main/Trabalho1_M%C3%B3dulo_2_Modelos_Preditivos_e_S%C3%A9ries_Temporais.ipynb\" target=\"_parent\"><img src=\"https://colab.research.google.com/assets/colab-badge.svg\" alt=\"Open In Colab\"/></a>"
      ]
    },
    {
      "cell_type": "markdown",
      "source": [
        "**Bootcamp IGTI - Eng. Machine Learning** <br>\n",
        "*Trabalho Prático 1 - Módulo 2*\n",
        "<br>\n",
        "<br>\n",
        "Tema: Modelos Preditivos e Séries Temporais"
      ],
      "metadata": {
        "id": "C0zq9z7yrMCH"
      }
    },
    {
      "cell_type": "code",
      "source": [
        "#Importando bibliotecas Numpy e Pandas\n",
        "import numpy as np\n",
        "import pandas as pd"
      ],
      "metadata": {
        "id": "B8q_lyMRrjVu"
      },
      "execution_count": 3,
      "outputs": []
    },
    {
      "cell_type": "code",
      "source": [
        "bike = pd.read_csv(\"bike-sharing.csv\")"
      ],
      "metadata": {
        "id": "aGs6ohEAxvqS"
      },
      "execution_count": 4,
      "outputs": []
    },
    {
      "cell_type": "markdown",
      "source": [
        "Esta atividade tem como objetivo analisar os dados coletados de compartilhamento de bicicletas em uma cidade, coletados pela Universidade do Porto.\n",
        "\n",
        "\n",
        "A seguir, um descritivo dos dados coletados: <br> \n",
        "<br>\n",
        "**rec_id**: índice do registro de locação. <br>\n",
        "**datetime**: data.<br>\n",
        "**season**: estação do ano (1: inverno, 2: primavera, 3: verão, 4: outono). Relativo ao hemisfério norte. <br>\n",
        "**year**: ano (0: 2011, 1:2012). <br>\n",
        "**month**: mês (1 a 12). <br>\n",
        "**hour**: hora do dia (0 a 23). <br>\n",
        "**is_holiday**: booleano indicando feriado. <br>\n",
        "**weekday**: dia da semana (0: domingo, 1: segunda-feira, …, 6: sábado). <br>\n",
        "**is_workingday**: booleano indicando dia útil. <br>\n",
        "**weather_condition**: (1: limpo, 2: nublado, 3: chuva leve, 4: chuva forte). <br>\n",
        "**temp**: temperatura escalada entre 0 e 1. Valor original em graus Celsius: -8 a 39. <br>\n",
        "**atemp**: sensação térmica escalada entre 0 e 1. Valor original em graus Celsius: -16 a 50. <br>\n",
        "**humidity**: umidade relativa (0 a 1). <br>\n",
        "**windspeed**: velocidade do vento escalada entre 0 e 1 (máximo original: 67). <br>\n",
        "**casual**: número de locações para usuários casuais. <br>\n",
        "**registered**: número de locações para usuários registrados. <br>\n",
        "**total_count**: contador total de aluguéis (casual+registered).<br>\n",
        "<br>\n",
        "Antes de cada código, colocarei a pergunta a ser respondida. "
      ],
      "metadata": {
        "id": "hoLdlSWH3qph"
      }
    },
    {
      "cell_type": "markdown",
      "source": [
        "Qual é o tamanho do dataset?"
      ],
      "metadata": {
        "id": "8USoga5wyIyL"
      }
    },
    {
      "cell_type": "code",
      "source": [
        "bike.shape"
      ],
      "metadata": {
        "colab": {
          "base_uri": "https://localhost:8080/"
        },
        "id": "lOwAUigeyLwO",
        "outputId": "db7be26d-90cf-43d3-f4c8-016cc95f8d9e"
      },
      "execution_count": 5,
      "outputs": [
        {
          "output_type": "execute_result",
          "data": {
            "text/plain": [
              "(17379, 17)"
            ]
          },
          "metadata": {},
          "execution_count": 5
        }
      ]
    },
    {
      "cell_type": "markdown",
      "source": [
        "Nosso dataset tem 17.379 observações e 17 variáveis."
      ],
      "metadata": {
        "id": "JzstIKxNzui0"
      }
    },
    {
      "cell_type": "markdown",
      "source": [
        "Vamos utilizar o comando head para vermos os primeiros dados do nosso dataset."
      ],
      "metadata": {
        "id": "eL1Xtwdo2StQ"
      }
    },
    {
      "cell_type": "code",
      "source": [
        "bike.head()"
      ],
      "metadata": {
        "colab": {
          "base_uri": "https://localhost:8080/",
          "height": 206
        },
        "id": "NuZZ4jIr1Dec",
        "outputId": "99fc993f-b027-4b4c-8ab7-022da8abb209"
      },
      "execution_count": 6,
      "outputs": [
        {
          "output_type": "execute_result",
          "data": {
            "text/html": [
              "\n",
              "  <div id=\"df-0e679e88-6587-494b-acc7-f333d7fe0829\">\n",
              "    <div class=\"colab-df-container\">\n",
              "      <div>\n",
              "<style scoped>\n",
              "    .dataframe tbody tr th:only-of-type {\n",
              "        vertical-align: middle;\n",
              "    }\n",
              "\n",
              "    .dataframe tbody tr th {\n",
              "        vertical-align: top;\n",
              "    }\n",
              "\n",
              "    .dataframe thead th {\n",
              "        text-align: right;\n",
              "    }\n",
              "</style>\n",
              "<table border=\"1\" class=\"dataframe\">\n",
              "  <thead>\n",
              "    <tr style=\"text-align: right;\">\n",
              "      <th></th>\n",
              "      <th>datetime</th>\n",
              "      <th>rec_id</th>\n",
              "      <th>season</th>\n",
              "      <th>year</th>\n",
              "      <th>month</th>\n",
              "      <th>hour</th>\n",
              "      <th>is_holiday</th>\n",
              "      <th>weekday</th>\n",
              "      <th>is_workingday</th>\n",
              "      <th>weather_condition</th>\n",
              "      <th>temp</th>\n",
              "      <th>atemp</th>\n",
              "      <th>humidity</th>\n",
              "      <th>windspeed</th>\n",
              "      <th>casual</th>\n",
              "      <th>registered</th>\n",
              "      <th>total_count</th>\n",
              "    </tr>\n",
              "  </thead>\n",
              "  <tbody>\n",
              "    <tr>\n",
              "      <th>0</th>\n",
              "      <td>2011-01-01</td>\n",
              "      <td>1</td>\n",
              "      <td>1</td>\n",
              "      <td>0</td>\n",
              "      <td>1</td>\n",
              "      <td>0</td>\n",
              "      <td>0</td>\n",
              "      <td>6</td>\n",
              "      <td>0</td>\n",
              "      <td>1</td>\n",
              "      <td>0.24</td>\n",
              "      <td>0.2879</td>\n",
              "      <td>0.81</td>\n",
              "      <td>0.0</td>\n",
              "      <td>3</td>\n",
              "      <td>13</td>\n",
              "      <td>16</td>\n",
              "    </tr>\n",
              "    <tr>\n",
              "      <th>1</th>\n",
              "      <td>2011-01-01</td>\n",
              "      <td>2</td>\n",
              "      <td>1</td>\n",
              "      <td>0</td>\n",
              "      <td>1</td>\n",
              "      <td>1</td>\n",
              "      <td>0</td>\n",
              "      <td>6</td>\n",
              "      <td>0</td>\n",
              "      <td>1</td>\n",
              "      <td>0.22</td>\n",
              "      <td>0.2727</td>\n",
              "      <td>0.80</td>\n",
              "      <td>0.0</td>\n",
              "      <td>8</td>\n",
              "      <td>32</td>\n",
              "      <td>40</td>\n",
              "    </tr>\n",
              "    <tr>\n",
              "      <th>2</th>\n",
              "      <td>2011-01-01</td>\n",
              "      <td>3</td>\n",
              "      <td>1</td>\n",
              "      <td>0</td>\n",
              "      <td>1</td>\n",
              "      <td>2</td>\n",
              "      <td>0</td>\n",
              "      <td>6</td>\n",
              "      <td>0</td>\n",
              "      <td>1</td>\n",
              "      <td>0.22</td>\n",
              "      <td>0.2727</td>\n",
              "      <td>0.80</td>\n",
              "      <td>0.0</td>\n",
              "      <td>5</td>\n",
              "      <td>27</td>\n",
              "      <td>32</td>\n",
              "    </tr>\n",
              "    <tr>\n",
              "      <th>3</th>\n",
              "      <td>2011-01-01</td>\n",
              "      <td>4</td>\n",
              "      <td>1</td>\n",
              "      <td>0</td>\n",
              "      <td>1</td>\n",
              "      <td>3</td>\n",
              "      <td>0</td>\n",
              "      <td>6</td>\n",
              "      <td>0</td>\n",
              "      <td>1</td>\n",
              "      <td>0.24</td>\n",
              "      <td>0.2879</td>\n",
              "      <td>0.75</td>\n",
              "      <td>0.0</td>\n",
              "      <td>3</td>\n",
              "      <td>10</td>\n",
              "      <td>13</td>\n",
              "    </tr>\n",
              "    <tr>\n",
              "      <th>4</th>\n",
              "      <td>2011-01-01</td>\n",
              "      <td>5</td>\n",
              "      <td>1</td>\n",
              "      <td>0</td>\n",
              "      <td>1</td>\n",
              "      <td>4</td>\n",
              "      <td>0</td>\n",
              "      <td>6</td>\n",
              "      <td>0</td>\n",
              "      <td>1</td>\n",
              "      <td>0.24</td>\n",
              "      <td>0.2879</td>\n",
              "      <td>0.75</td>\n",
              "      <td>0.0</td>\n",
              "      <td>0</td>\n",
              "      <td>1</td>\n",
              "      <td>1</td>\n",
              "    </tr>\n",
              "  </tbody>\n",
              "</table>\n",
              "</div>\n",
              "      <button class=\"colab-df-convert\" onclick=\"convertToInteractive('df-0e679e88-6587-494b-acc7-f333d7fe0829')\"\n",
              "              title=\"Convert this dataframe to an interactive table.\"\n",
              "              style=\"display:none;\">\n",
              "        \n",
              "  <svg xmlns=\"http://www.w3.org/2000/svg\" height=\"24px\"viewBox=\"0 0 24 24\"\n",
              "       width=\"24px\">\n",
              "    <path d=\"M0 0h24v24H0V0z\" fill=\"none\"/>\n",
              "    <path d=\"M18.56 5.44l.94 2.06.94-2.06 2.06-.94-2.06-.94-.94-2.06-.94 2.06-2.06.94zm-11 1L8.5 8.5l.94-2.06 2.06-.94-2.06-.94L8.5 2.5l-.94 2.06-2.06.94zm10 10l.94 2.06.94-2.06 2.06-.94-2.06-.94-.94-2.06-.94 2.06-2.06.94z\"/><path d=\"M17.41 7.96l-1.37-1.37c-.4-.4-.92-.59-1.43-.59-.52 0-1.04.2-1.43.59L10.3 9.45l-7.72 7.72c-.78.78-.78 2.05 0 2.83L4 21.41c.39.39.9.59 1.41.59.51 0 1.02-.2 1.41-.59l7.78-7.78 2.81-2.81c.8-.78.8-2.07 0-2.86zM5.41 20L4 18.59l7.72-7.72 1.47 1.35L5.41 20z\"/>\n",
              "  </svg>\n",
              "      </button>\n",
              "      \n",
              "  <style>\n",
              "    .colab-df-container {\n",
              "      display:flex;\n",
              "      flex-wrap:wrap;\n",
              "      gap: 12px;\n",
              "    }\n",
              "\n",
              "    .colab-df-convert {\n",
              "      background-color: #E8F0FE;\n",
              "      border: none;\n",
              "      border-radius: 50%;\n",
              "      cursor: pointer;\n",
              "      display: none;\n",
              "      fill: #1967D2;\n",
              "      height: 32px;\n",
              "      padding: 0 0 0 0;\n",
              "      width: 32px;\n",
              "    }\n",
              "\n",
              "    .colab-df-convert:hover {\n",
              "      background-color: #E2EBFA;\n",
              "      box-shadow: 0px 1px 2px rgba(60, 64, 67, 0.3), 0px 1px 3px 1px rgba(60, 64, 67, 0.15);\n",
              "      fill: #174EA6;\n",
              "    }\n",
              "\n",
              "    [theme=dark] .colab-df-convert {\n",
              "      background-color: #3B4455;\n",
              "      fill: #D2E3FC;\n",
              "    }\n",
              "\n",
              "    [theme=dark] .colab-df-convert:hover {\n",
              "      background-color: #434B5C;\n",
              "      box-shadow: 0px 1px 3px 1px rgba(0, 0, 0, 0.15);\n",
              "      filter: drop-shadow(0px 1px 2px rgba(0, 0, 0, 0.3));\n",
              "      fill: #FFFFFF;\n",
              "    }\n",
              "  </style>\n",
              "\n",
              "      <script>\n",
              "        const buttonEl =\n",
              "          document.querySelector('#df-0e679e88-6587-494b-acc7-f333d7fe0829 button.colab-df-convert');\n",
              "        buttonEl.style.display =\n",
              "          google.colab.kernel.accessAllowed ? 'block' : 'none';\n",
              "\n",
              "        async function convertToInteractive(key) {\n",
              "          const element = document.querySelector('#df-0e679e88-6587-494b-acc7-f333d7fe0829');\n",
              "          const dataTable =\n",
              "            await google.colab.kernel.invokeFunction('convertToInteractive',\n",
              "                                                     [key], {});\n",
              "          if (!dataTable) return;\n",
              "\n",
              "          const docLinkHtml = 'Like what you see? Visit the ' +\n",
              "            '<a target=\"_blank\" href=https://colab.research.google.com/notebooks/data_table.ipynb>data table notebook</a>'\n",
              "            + ' to learn more about interactive tables.';\n",
              "          element.innerHTML = '';\n",
              "          dataTable['output_type'] = 'display_data';\n",
              "          await google.colab.output.renderOutput(dataTable, element);\n",
              "          const docLink = document.createElement('div');\n",
              "          docLink.innerHTML = docLinkHtml;\n",
              "          element.appendChild(docLink);\n",
              "        }\n",
              "      </script>\n",
              "    </div>\n",
              "  </div>\n",
              "  "
            ],
            "text/plain": [
              "     datetime  rec_id  season  year  ...  windspeed  casual  registered  total_count\n",
              "0  2011-01-01       1       1     0  ...        0.0       3          13           16\n",
              "1  2011-01-01       2       1     0  ...        0.0       8          32           40\n",
              "2  2011-01-01       3       1     0  ...        0.0       5          27           32\n",
              "3  2011-01-01       4       1     0  ...        0.0       3          10           13\n",
              "4  2011-01-01       5       1     0  ...        0.0       0           1            1\n",
              "\n",
              "[5 rows x 17 columns]"
            ]
          },
          "metadata": {},
          "execution_count": 6
        }
      ]
    },
    {
      "cell_type": "markdown",
      "source": [
        "Modificando os nomes das colunas, irei traduzir para o português do Brasil."
      ],
      "metadata": {
        "id": "15f0KFFiUjhB"
      }
    },
    {
      "cell_type": "code",
      "source": [
        "bike.rename(columns={'datetime': 'periodo', 'rec_id': 'id', 'season':'estacoes','year': 'ano', 'month':'mes', 'hour': 'hora', 'is_holiday': 'feriado', 'weekday': 'dia_da_semana', 'is_workingday':'dia_util', 'weather_condition':'condicao_climatica', 'temp': 'temperatura', 'atemp': 'sensacao_termica', 'humidity': 'umidade', 'windspeed':'velocidade_vento', 'casual':'locacoes_casuais', 'registered':'locacoes_registradas', 'total_count': 'total_locacoes'},\n",
        "            inplace=True)"
      ],
      "metadata": {
        "id": "92Q2AmRBUtau"
      },
      "execution_count": 11,
      "outputs": []
    },
    {
      "cell_type": "markdown",
      "source": [
        "Vamos novamente usar o comando head() para vermos as alterações."
      ],
      "metadata": {
        "id": "QV1e7OJsXF2a"
      }
    },
    {
      "cell_type": "code",
      "source": [
        "bike.head()"
      ],
      "metadata": {
        "colab": {
          "base_uri": "https://localhost:8080/",
          "height": 357
        },
        "id": "eDqpq5GqXMON",
        "outputId": "feb7088e-9bd5-4fe7-e90a-ac3d423fea90"
      },
      "execution_count": 12,
      "outputs": [
        {
          "output_type": "execute_result",
          "data": {
            "text/html": [
              "\n",
              "  <div id=\"df-27f02579-c0e3-4c3a-8f81-1f99c0e5249c\">\n",
              "    <div class=\"colab-df-container\">\n",
              "      <div>\n",
              "<style scoped>\n",
              "    .dataframe tbody tr th:only-of-type {\n",
              "        vertical-align: middle;\n",
              "    }\n",
              "\n",
              "    .dataframe tbody tr th {\n",
              "        vertical-align: top;\n",
              "    }\n",
              "\n",
              "    .dataframe thead th {\n",
              "        text-align: right;\n",
              "    }\n",
              "</style>\n",
              "<table border=\"1\" class=\"dataframe\">\n",
              "  <thead>\n",
              "    <tr style=\"text-align: right;\">\n",
              "      <th></th>\n",
              "      <th>periodo</th>\n",
              "      <th>id</th>\n",
              "      <th>estacoes</th>\n",
              "      <th>ano</th>\n",
              "      <th>mes</th>\n",
              "      <th>hora</th>\n",
              "      <th>feriado</th>\n",
              "      <th>dia_da_semana</th>\n",
              "      <th>dia_util</th>\n",
              "      <th>condicao_climatica</th>\n",
              "      <th>temperatura</th>\n",
              "      <th>sensacao_termica</th>\n",
              "      <th>umidade</th>\n",
              "      <th>velocidade_vento</th>\n",
              "      <th>locacoes_casuais</th>\n",
              "      <th>locacoes_registradas</th>\n",
              "      <th>total_locacoes</th>\n",
              "    </tr>\n",
              "  </thead>\n",
              "  <tbody>\n",
              "    <tr>\n",
              "      <th>0</th>\n",
              "      <td>2011-01-01</td>\n",
              "      <td>1</td>\n",
              "      <td>1</td>\n",
              "      <td>0</td>\n",
              "      <td>1</td>\n",
              "      <td>0</td>\n",
              "      <td>0</td>\n",
              "      <td>6</td>\n",
              "      <td>0</td>\n",
              "      <td>1</td>\n",
              "      <td>0.24</td>\n",
              "      <td>0.2879</td>\n",
              "      <td>0.81</td>\n",
              "      <td>0.0</td>\n",
              "      <td>3</td>\n",
              "      <td>13</td>\n",
              "      <td>16</td>\n",
              "    </tr>\n",
              "    <tr>\n",
              "      <th>1</th>\n",
              "      <td>2011-01-01</td>\n",
              "      <td>2</td>\n",
              "      <td>1</td>\n",
              "      <td>0</td>\n",
              "      <td>1</td>\n",
              "      <td>1</td>\n",
              "      <td>0</td>\n",
              "      <td>6</td>\n",
              "      <td>0</td>\n",
              "      <td>1</td>\n",
              "      <td>0.22</td>\n",
              "      <td>0.2727</td>\n",
              "      <td>0.80</td>\n",
              "      <td>0.0</td>\n",
              "      <td>8</td>\n",
              "      <td>32</td>\n",
              "      <td>40</td>\n",
              "    </tr>\n",
              "    <tr>\n",
              "      <th>2</th>\n",
              "      <td>2011-01-01</td>\n",
              "      <td>3</td>\n",
              "      <td>1</td>\n",
              "      <td>0</td>\n",
              "      <td>1</td>\n",
              "      <td>2</td>\n",
              "      <td>0</td>\n",
              "      <td>6</td>\n",
              "      <td>0</td>\n",
              "      <td>1</td>\n",
              "      <td>0.22</td>\n",
              "      <td>0.2727</td>\n",
              "      <td>0.80</td>\n",
              "      <td>0.0</td>\n",
              "      <td>5</td>\n",
              "      <td>27</td>\n",
              "      <td>32</td>\n",
              "    </tr>\n",
              "    <tr>\n",
              "      <th>3</th>\n",
              "      <td>2011-01-01</td>\n",
              "      <td>4</td>\n",
              "      <td>1</td>\n",
              "      <td>0</td>\n",
              "      <td>1</td>\n",
              "      <td>3</td>\n",
              "      <td>0</td>\n",
              "      <td>6</td>\n",
              "      <td>0</td>\n",
              "      <td>1</td>\n",
              "      <td>0.24</td>\n",
              "      <td>0.2879</td>\n",
              "      <td>0.75</td>\n",
              "      <td>0.0</td>\n",
              "      <td>3</td>\n",
              "      <td>10</td>\n",
              "      <td>13</td>\n",
              "    </tr>\n",
              "    <tr>\n",
              "      <th>4</th>\n",
              "      <td>2011-01-01</td>\n",
              "      <td>5</td>\n",
              "      <td>1</td>\n",
              "      <td>0</td>\n",
              "      <td>1</td>\n",
              "      <td>4</td>\n",
              "      <td>0</td>\n",
              "      <td>6</td>\n",
              "      <td>0</td>\n",
              "      <td>1</td>\n",
              "      <td>0.24</td>\n",
              "      <td>0.2879</td>\n",
              "      <td>0.75</td>\n",
              "      <td>0.0</td>\n",
              "      <td>0</td>\n",
              "      <td>1</td>\n",
              "      <td>1</td>\n",
              "    </tr>\n",
              "  </tbody>\n",
              "</table>\n",
              "</div>\n",
              "      <button class=\"colab-df-convert\" onclick=\"convertToInteractive('df-27f02579-c0e3-4c3a-8f81-1f99c0e5249c')\"\n",
              "              title=\"Convert this dataframe to an interactive table.\"\n",
              "              style=\"display:none;\">\n",
              "        \n",
              "  <svg xmlns=\"http://www.w3.org/2000/svg\" height=\"24px\"viewBox=\"0 0 24 24\"\n",
              "       width=\"24px\">\n",
              "    <path d=\"M0 0h24v24H0V0z\" fill=\"none\"/>\n",
              "    <path d=\"M18.56 5.44l.94 2.06.94-2.06 2.06-.94-2.06-.94-.94-2.06-.94 2.06-2.06.94zm-11 1L8.5 8.5l.94-2.06 2.06-.94-2.06-.94L8.5 2.5l-.94 2.06-2.06.94zm10 10l.94 2.06.94-2.06 2.06-.94-2.06-.94-.94-2.06-.94 2.06-2.06.94z\"/><path d=\"M17.41 7.96l-1.37-1.37c-.4-.4-.92-.59-1.43-.59-.52 0-1.04.2-1.43.59L10.3 9.45l-7.72 7.72c-.78.78-.78 2.05 0 2.83L4 21.41c.39.39.9.59 1.41.59.51 0 1.02-.2 1.41-.59l7.78-7.78 2.81-2.81c.8-.78.8-2.07 0-2.86zM5.41 20L4 18.59l7.72-7.72 1.47 1.35L5.41 20z\"/>\n",
              "  </svg>\n",
              "      </button>\n",
              "      \n",
              "  <style>\n",
              "    .colab-df-container {\n",
              "      display:flex;\n",
              "      flex-wrap:wrap;\n",
              "      gap: 12px;\n",
              "    }\n",
              "\n",
              "    .colab-df-convert {\n",
              "      background-color: #E8F0FE;\n",
              "      border: none;\n",
              "      border-radius: 50%;\n",
              "      cursor: pointer;\n",
              "      display: none;\n",
              "      fill: #1967D2;\n",
              "      height: 32px;\n",
              "      padding: 0 0 0 0;\n",
              "      width: 32px;\n",
              "    }\n",
              "\n",
              "    .colab-df-convert:hover {\n",
              "      background-color: #E2EBFA;\n",
              "      box-shadow: 0px 1px 2px rgba(60, 64, 67, 0.3), 0px 1px 3px 1px rgba(60, 64, 67, 0.15);\n",
              "      fill: #174EA6;\n",
              "    }\n",
              "\n",
              "    [theme=dark] .colab-df-convert {\n",
              "      background-color: #3B4455;\n",
              "      fill: #D2E3FC;\n",
              "    }\n",
              "\n",
              "    [theme=dark] .colab-df-convert:hover {\n",
              "      background-color: #434B5C;\n",
              "      box-shadow: 0px 1px 3px 1px rgba(0, 0, 0, 0.15);\n",
              "      filter: drop-shadow(0px 1px 2px rgba(0, 0, 0, 0.3));\n",
              "      fill: #FFFFFF;\n",
              "    }\n",
              "  </style>\n",
              "\n",
              "      <script>\n",
              "        const buttonEl =\n",
              "          document.querySelector('#df-27f02579-c0e3-4c3a-8f81-1f99c0e5249c button.colab-df-convert');\n",
              "        buttonEl.style.display =\n",
              "          google.colab.kernel.accessAllowed ? 'block' : 'none';\n",
              "\n",
              "        async function convertToInteractive(key) {\n",
              "          const element = document.querySelector('#df-27f02579-c0e3-4c3a-8f81-1f99c0e5249c');\n",
              "          const dataTable =\n",
              "            await google.colab.kernel.invokeFunction('convertToInteractive',\n",
              "                                                     [key], {});\n",
              "          if (!dataTable) return;\n",
              "\n",
              "          const docLinkHtml = 'Like what you see? Visit the ' +\n",
              "            '<a target=\"_blank\" href=https://colab.research.google.com/notebooks/data_table.ipynb>data table notebook</a>'\n",
              "            + ' to learn more about interactive tables.';\n",
              "          element.innerHTML = '';\n",
              "          dataTable['output_type'] = 'display_data';\n",
              "          await google.colab.output.renderOutput(dataTable, element);\n",
              "          const docLink = document.createElement('div');\n",
              "          docLink.innerHTML = docLinkHtml;\n",
              "          element.appendChild(docLink);\n",
              "        }\n",
              "      </script>\n",
              "    </div>\n",
              "  </div>\n",
              "  "
            ],
            "text/plain": [
              "      periodo  id  ...  locacoes_registradas  total_locacoes\n",
              "0  2011-01-01   1  ...                    13              16\n",
              "1  2011-01-01   2  ...                    32              40\n",
              "2  2011-01-01   3  ...                    27              32\n",
              "3  2011-01-01   4  ...                    10              13\n",
              "4  2011-01-01   5  ...                     1               1\n",
              "\n",
              "[5 rows x 17 columns]"
            ]
          },
          "metadata": {},
          "execution_count": 12
        }
      ]
    },
    {
      "cell_type": "markdown",
      "source": [
        "Iremos alterar a ordem das colunas."
      ],
      "metadata": {
        "id": "bSeAQ_IBf1af"
      }
    },
    {
      "cell_type": "code",
      "source": [
        "bike = bike[['id', 'periodo', 'dia_da_semana', 'dia_util', 'feriado', 'hora', 'mes', 'ano', 'estacoes', 'condicao_climatica', 'temperatura', 'sensacao_termica', 'umidade', 'velocidade_vento', 'locacoes_casuais', 'locacoes_registradas', 'total_locacoes' ]]"
      ],
      "metadata": {
        "id": "OetJ7g7Bf-6Y"
      },
      "execution_count": 13,
      "outputs": []
    },
    {
      "cell_type": "markdown",
      "source": [
        "Novamente vamos dar o comando head() para vermos as alterações."
      ],
      "metadata": {
        "id": "7mrWuN4ihL9_"
      }
    },
    {
      "cell_type": "code",
      "source": [
        "bike.head()"
      ],
      "metadata": {
        "colab": {
          "base_uri": "https://localhost:8080/",
          "height": 357
        },
        "id": "t5_mGBwWhQEK",
        "outputId": "cc008bf0-0c04-4ee4-e501-7608676231ea"
      },
      "execution_count": 14,
      "outputs": [
        {
          "output_type": "execute_result",
          "data": {
            "text/html": [
              "\n",
              "  <div id=\"df-601f14b5-5dc2-4645-b340-7c793cf8e18e\">\n",
              "    <div class=\"colab-df-container\">\n",
              "      <div>\n",
              "<style scoped>\n",
              "    .dataframe tbody tr th:only-of-type {\n",
              "        vertical-align: middle;\n",
              "    }\n",
              "\n",
              "    .dataframe tbody tr th {\n",
              "        vertical-align: top;\n",
              "    }\n",
              "\n",
              "    .dataframe thead th {\n",
              "        text-align: right;\n",
              "    }\n",
              "</style>\n",
              "<table border=\"1\" class=\"dataframe\">\n",
              "  <thead>\n",
              "    <tr style=\"text-align: right;\">\n",
              "      <th></th>\n",
              "      <th>id</th>\n",
              "      <th>periodo</th>\n",
              "      <th>dia_da_semana</th>\n",
              "      <th>dia_util</th>\n",
              "      <th>feriado</th>\n",
              "      <th>hora</th>\n",
              "      <th>mes</th>\n",
              "      <th>ano</th>\n",
              "      <th>estacoes</th>\n",
              "      <th>condicao_climatica</th>\n",
              "      <th>temperatura</th>\n",
              "      <th>sensacao_termica</th>\n",
              "      <th>umidade</th>\n",
              "      <th>velocidade_vento</th>\n",
              "      <th>locacoes_casuais</th>\n",
              "      <th>locacoes_registradas</th>\n",
              "      <th>total_locacoes</th>\n",
              "    </tr>\n",
              "  </thead>\n",
              "  <tbody>\n",
              "    <tr>\n",
              "      <th>0</th>\n",
              "      <td>1</td>\n",
              "      <td>2011-01-01</td>\n",
              "      <td>6</td>\n",
              "      <td>0</td>\n",
              "      <td>0</td>\n",
              "      <td>0</td>\n",
              "      <td>1</td>\n",
              "      <td>0</td>\n",
              "      <td>1</td>\n",
              "      <td>1</td>\n",
              "      <td>0.24</td>\n",
              "      <td>0.2879</td>\n",
              "      <td>0.81</td>\n",
              "      <td>0.0</td>\n",
              "      <td>3</td>\n",
              "      <td>13</td>\n",
              "      <td>16</td>\n",
              "    </tr>\n",
              "    <tr>\n",
              "      <th>1</th>\n",
              "      <td>2</td>\n",
              "      <td>2011-01-01</td>\n",
              "      <td>6</td>\n",
              "      <td>0</td>\n",
              "      <td>0</td>\n",
              "      <td>1</td>\n",
              "      <td>1</td>\n",
              "      <td>0</td>\n",
              "      <td>1</td>\n",
              "      <td>1</td>\n",
              "      <td>0.22</td>\n",
              "      <td>0.2727</td>\n",
              "      <td>0.80</td>\n",
              "      <td>0.0</td>\n",
              "      <td>8</td>\n",
              "      <td>32</td>\n",
              "      <td>40</td>\n",
              "    </tr>\n",
              "    <tr>\n",
              "      <th>2</th>\n",
              "      <td>3</td>\n",
              "      <td>2011-01-01</td>\n",
              "      <td>6</td>\n",
              "      <td>0</td>\n",
              "      <td>0</td>\n",
              "      <td>2</td>\n",
              "      <td>1</td>\n",
              "      <td>0</td>\n",
              "      <td>1</td>\n",
              "      <td>1</td>\n",
              "      <td>0.22</td>\n",
              "      <td>0.2727</td>\n",
              "      <td>0.80</td>\n",
              "      <td>0.0</td>\n",
              "      <td>5</td>\n",
              "      <td>27</td>\n",
              "      <td>32</td>\n",
              "    </tr>\n",
              "    <tr>\n",
              "      <th>3</th>\n",
              "      <td>4</td>\n",
              "      <td>2011-01-01</td>\n",
              "      <td>6</td>\n",
              "      <td>0</td>\n",
              "      <td>0</td>\n",
              "      <td>3</td>\n",
              "      <td>1</td>\n",
              "      <td>0</td>\n",
              "      <td>1</td>\n",
              "      <td>1</td>\n",
              "      <td>0.24</td>\n",
              "      <td>0.2879</td>\n",
              "      <td>0.75</td>\n",
              "      <td>0.0</td>\n",
              "      <td>3</td>\n",
              "      <td>10</td>\n",
              "      <td>13</td>\n",
              "    </tr>\n",
              "    <tr>\n",
              "      <th>4</th>\n",
              "      <td>5</td>\n",
              "      <td>2011-01-01</td>\n",
              "      <td>6</td>\n",
              "      <td>0</td>\n",
              "      <td>0</td>\n",
              "      <td>4</td>\n",
              "      <td>1</td>\n",
              "      <td>0</td>\n",
              "      <td>1</td>\n",
              "      <td>1</td>\n",
              "      <td>0.24</td>\n",
              "      <td>0.2879</td>\n",
              "      <td>0.75</td>\n",
              "      <td>0.0</td>\n",
              "      <td>0</td>\n",
              "      <td>1</td>\n",
              "      <td>1</td>\n",
              "    </tr>\n",
              "  </tbody>\n",
              "</table>\n",
              "</div>\n",
              "      <button class=\"colab-df-convert\" onclick=\"convertToInteractive('df-601f14b5-5dc2-4645-b340-7c793cf8e18e')\"\n",
              "              title=\"Convert this dataframe to an interactive table.\"\n",
              "              style=\"display:none;\">\n",
              "        \n",
              "  <svg xmlns=\"http://www.w3.org/2000/svg\" height=\"24px\"viewBox=\"0 0 24 24\"\n",
              "       width=\"24px\">\n",
              "    <path d=\"M0 0h24v24H0V0z\" fill=\"none\"/>\n",
              "    <path d=\"M18.56 5.44l.94 2.06.94-2.06 2.06-.94-2.06-.94-.94-2.06-.94 2.06-2.06.94zm-11 1L8.5 8.5l.94-2.06 2.06-.94-2.06-.94L8.5 2.5l-.94 2.06-2.06.94zm10 10l.94 2.06.94-2.06 2.06-.94-2.06-.94-.94-2.06-.94 2.06-2.06.94z\"/><path d=\"M17.41 7.96l-1.37-1.37c-.4-.4-.92-.59-1.43-.59-.52 0-1.04.2-1.43.59L10.3 9.45l-7.72 7.72c-.78.78-.78 2.05 0 2.83L4 21.41c.39.39.9.59 1.41.59.51 0 1.02-.2 1.41-.59l7.78-7.78 2.81-2.81c.8-.78.8-2.07 0-2.86zM5.41 20L4 18.59l7.72-7.72 1.47 1.35L5.41 20z\"/>\n",
              "  </svg>\n",
              "      </button>\n",
              "      \n",
              "  <style>\n",
              "    .colab-df-container {\n",
              "      display:flex;\n",
              "      flex-wrap:wrap;\n",
              "      gap: 12px;\n",
              "    }\n",
              "\n",
              "    .colab-df-convert {\n",
              "      background-color: #E8F0FE;\n",
              "      border: none;\n",
              "      border-radius: 50%;\n",
              "      cursor: pointer;\n",
              "      display: none;\n",
              "      fill: #1967D2;\n",
              "      height: 32px;\n",
              "      padding: 0 0 0 0;\n",
              "      width: 32px;\n",
              "    }\n",
              "\n",
              "    .colab-df-convert:hover {\n",
              "      background-color: #E2EBFA;\n",
              "      box-shadow: 0px 1px 2px rgba(60, 64, 67, 0.3), 0px 1px 3px 1px rgba(60, 64, 67, 0.15);\n",
              "      fill: #174EA6;\n",
              "    }\n",
              "\n",
              "    [theme=dark] .colab-df-convert {\n",
              "      background-color: #3B4455;\n",
              "      fill: #D2E3FC;\n",
              "    }\n",
              "\n",
              "    [theme=dark] .colab-df-convert:hover {\n",
              "      background-color: #434B5C;\n",
              "      box-shadow: 0px 1px 3px 1px rgba(0, 0, 0, 0.15);\n",
              "      filter: drop-shadow(0px 1px 2px rgba(0, 0, 0, 0.3));\n",
              "      fill: #FFFFFF;\n",
              "    }\n",
              "  </style>\n",
              "\n",
              "      <script>\n",
              "        const buttonEl =\n",
              "          document.querySelector('#df-601f14b5-5dc2-4645-b340-7c793cf8e18e button.colab-df-convert');\n",
              "        buttonEl.style.display =\n",
              "          google.colab.kernel.accessAllowed ? 'block' : 'none';\n",
              "\n",
              "        async function convertToInteractive(key) {\n",
              "          const element = document.querySelector('#df-601f14b5-5dc2-4645-b340-7c793cf8e18e');\n",
              "          const dataTable =\n",
              "            await google.colab.kernel.invokeFunction('convertToInteractive',\n",
              "                                                     [key], {});\n",
              "          if (!dataTable) return;\n",
              "\n",
              "          const docLinkHtml = 'Like what you see? Visit the ' +\n",
              "            '<a target=\"_blank\" href=https://colab.research.google.com/notebooks/data_table.ipynb>data table notebook</a>'\n",
              "            + ' to learn more about interactive tables.';\n",
              "          element.innerHTML = '';\n",
              "          dataTable['output_type'] = 'display_data';\n",
              "          await google.colab.output.renderOutput(dataTable, element);\n",
              "          const docLink = document.createElement('div');\n",
              "          docLink.innerHTML = docLinkHtml;\n",
              "          element.appendChild(docLink);\n",
              "        }\n",
              "      </script>\n",
              "    </div>\n",
              "  </div>\n",
              "  "
            ],
            "text/plain": [
              "   id     periodo  ...  locacoes_registradas  total_locacoes\n",
              "0   1  2011-01-01  ...                    13              16\n",
              "1   2  2011-01-01  ...                    32              40\n",
              "2   3  2011-01-01  ...                    27              32\n",
              "3   4  2011-01-01  ...                    10              13\n",
              "4   5  2011-01-01  ...                     1               1\n",
              "\n",
              "[5 rows x 17 columns]"
            ]
          },
          "metadata": {},
          "execution_count": 14
        }
      ]
    },
    {
      "cell_type": "markdown",
      "source": [
        "Qual a média da coluna **'velocidade_vento'**?"
      ],
      "metadata": {
        "id": "NMkdmNBN1HUt"
      }
    },
    {
      "cell_type": "code",
      "source": [
        "mediavento = np.mean(bike['velocidade_vento'])\n",
        "mvround = round(mediavento, 2)\n",
        "mvround"
      ],
      "metadata": {
        "colab": {
          "base_uri": "https://localhost:8080/"
        },
        "id": "bwvdkVOG3Kxz",
        "outputId": "e8ef7981-53fd-4ad6-a46a-73d0837039f6"
      },
      "execution_count": 46,
      "outputs": [
        {
          "output_type": "execute_result",
          "data": {
            "text/plain": [
              "0.19"
            ]
          },
          "metadata": {},
          "execution_count": 46
        }
      ]
    },
    {
      "cell_type": "markdown",
      "source": [
        "A média da coluna **'velocidade_vento'** é 0.19"
      ],
      "metadata": {
        "id": "3C-q-Qyh3hdS"
      }
    },
    {
      "cell_type": "markdown",
      "source": [
        "Qual a média da coluna **'temperatura'**?"
      ],
      "metadata": {
        "id": "Lbk-dxjx44uR"
      }
    },
    {
      "cell_type": "code",
      "source": [
        "mediatemp = np.mean(bike['temperatura'])\n",
        "mtround = round(mediatemp, 2)\n",
        "mtround"
      ],
      "metadata": {
        "colab": {
          "base_uri": "https://localhost:8080/"
        },
        "id": "LZ6y0Oeh4qit",
        "outputId": "18a2c0a4-894d-4fb4-c006-c08f010fddcb"
      },
      "execution_count": 47,
      "outputs": [
        {
          "output_type": "execute_result",
          "data": {
            "text/plain": [
              "0.5"
            ]
          },
          "metadata": {},
          "execution_count": 47
        }
      ]
    },
    {
      "cell_type": "markdown",
      "source": [
        "A média da coluna **'temperatura'** é 0.47 e arredondada é 0.50"
      ],
      "metadata": {
        "id": "QYe7b9wC5BYe"
      }
    },
    {
      "cell_type": "markdown",
      "source": [
        "Quantos registros existem para o ano de 2011 para o ano de 2012?"
      ],
      "metadata": {
        "id": "yDz4ExN65HYu"
      }
    },
    {
      "cell_type": "code",
      "source": [
        "bike.groupby('ano').count()"
      ],
      "metadata": {
        "colab": {
          "base_uri": "https://localhost:8080/",
          "height": 207
        },
        "id": "sGw19EPo5j23",
        "outputId": "79a88d65-e8ea-463c-e28a-3bcf4ad6650b"
      },
      "execution_count": 58,
      "outputs": [
        {
          "output_type": "execute_result",
          "data": {
            "text/html": [
              "\n",
              "  <div id=\"df-973818e4-f8d3-4884-a64c-7dfe71799e27\">\n",
              "    <div class=\"colab-df-container\">\n",
              "      <div>\n",
              "<style scoped>\n",
              "    .dataframe tbody tr th:only-of-type {\n",
              "        vertical-align: middle;\n",
              "    }\n",
              "\n",
              "    .dataframe tbody tr th {\n",
              "        vertical-align: top;\n",
              "    }\n",
              "\n",
              "    .dataframe thead th {\n",
              "        text-align: right;\n",
              "    }\n",
              "</style>\n",
              "<table border=\"1\" class=\"dataframe\">\n",
              "  <thead>\n",
              "    <tr style=\"text-align: right;\">\n",
              "      <th></th>\n",
              "      <th>id</th>\n",
              "      <th>periodo</th>\n",
              "      <th>dia_da_semana</th>\n",
              "      <th>dia_util</th>\n",
              "      <th>feriado</th>\n",
              "      <th>hora</th>\n",
              "      <th>mes</th>\n",
              "      <th>estacoes</th>\n",
              "      <th>condicao_climatica</th>\n",
              "      <th>temperatura</th>\n",
              "      <th>sensacao_termica</th>\n",
              "      <th>umidade</th>\n",
              "      <th>velocidade_vento</th>\n",
              "      <th>locacoes_casuais</th>\n",
              "      <th>locacoes_registradas</th>\n",
              "      <th>total_locacoes</th>\n",
              "    </tr>\n",
              "    <tr>\n",
              "      <th>ano</th>\n",
              "      <th></th>\n",
              "      <th></th>\n",
              "      <th></th>\n",
              "      <th></th>\n",
              "      <th></th>\n",
              "      <th></th>\n",
              "      <th></th>\n",
              "      <th></th>\n",
              "      <th></th>\n",
              "      <th></th>\n",
              "      <th></th>\n",
              "      <th></th>\n",
              "      <th></th>\n",
              "      <th></th>\n",
              "      <th></th>\n",
              "      <th></th>\n",
              "    </tr>\n",
              "  </thead>\n",
              "  <tbody>\n",
              "    <tr>\n",
              "      <th>0</th>\n",
              "      <td>8645</td>\n",
              "      <td>8645</td>\n",
              "      <td>8645</td>\n",
              "      <td>8645</td>\n",
              "      <td>8645</td>\n",
              "      <td>8645</td>\n",
              "      <td>8645</td>\n",
              "      <td>8645</td>\n",
              "      <td>8645</td>\n",
              "      <td>8645</td>\n",
              "      <td>8645</td>\n",
              "      <td>8645</td>\n",
              "      <td>8645</td>\n",
              "      <td>8645</td>\n",
              "      <td>8645</td>\n",
              "      <td>8645</td>\n",
              "    </tr>\n",
              "    <tr>\n",
              "      <th>1</th>\n",
              "      <td>8734</td>\n",
              "      <td>8734</td>\n",
              "      <td>8734</td>\n",
              "      <td>8734</td>\n",
              "      <td>8734</td>\n",
              "      <td>8734</td>\n",
              "      <td>8734</td>\n",
              "      <td>8734</td>\n",
              "      <td>8734</td>\n",
              "      <td>8734</td>\n",
              "      <td>8734</td>\n",
              "      <td>8734</td>\n",
              "      <td>8734</td>\n",
              "      <td>8734</td>\n",
              "      <td>8734</td>\n",
              "      <td>8734</td>\n",
              "    </tr>\n",
              "  </tbody>\n",
              "</table>\n",
              "</div>\n",
              "      <button class=\"colab-df-convert\" onclick=\"convertToInteractive('df-973818e4-f8d3-4884-a64c-7dfe71799e27')\"\n",
              "              title=\"Convert this dataframe to an interactive table.\"\n",
              "              style=\"display:none;\">\n",
              "        \n",
              "  <svg xmlns=\"http://www.w3.org/2000/svg\" height=\"24px\"viewBox=\"0 0 24 24\"\n",
              "       width=\"24px\">\n",
              "    <path d=\"M0 0h24v24H0V0z\" fill=\"none\"/>\n",
              "    <path d=\"M18.56 5.44l.94 2.06.94-2.06 2.06-.94-2.06-.94-.94-2.06-.94 2.06-2.06.94zm-11 1L8.5 8.5l.94-2.06 2.06-.94-2.06-.94L8.5 2.5l-.94 2.06-2.06.94zm10 10l.94 2.06.94-2.06 2.06-.94-2.06-.94-.94-2.06-.94 2.06-2.06.94z\"/><path d=\"M17.41 7.96l-1.37-1.37c-.4-.4-.92-.59-1.43-.59-.52 0-1.04.2-1.43.59L10.3 9.45l-7.72 7.72c-.78.78-.78 2.05 0 2.83L4 21.41c.39.39.9.59 1.41.59.51 0 1.02-.2 1.41-.59l7.78-7.78 2.81-2.81c.8-.78.8-2.07 0-2.86zM5.41 20L4 18.59l7.72-7.72 1.47 1.35L5.41 20z\"/>\n",
              "  </svg>\n",
              "      </button>\n",
              "      \n",
              "  <style>\n",
              "    .colab-df-container {\n",
              "      display:flex;\n",
              "      flex-wrap:wrap;\n",
              "      gap: 12px;\n",
              "    }\n",
              "\n",
              "    .colab-df-convert {\n",
              "      background-color: #E8F0FE;\n",
              "      border: none;\n",
              "      border-radius: 50%;\n",
              "      cursor: pointer;\n",
              "      display: none;\n",
              "      fill: #1967D2;\n",
              "      height: 32px;\n",
              "      padding: 0 0 0 0;\n",
              "      width: 32px;\n",
              "    }\n",
              "\n",
              "    .colab-df-convert:hover {\n",
              "      background-color: #E2EBFA;\n",
              "      box-shadow: 0px 1px 2px rgba(60, 64, 67, 0.3), 0px 1px 3px 1px rgba(60, 64, 67, 0.15);\n",
              "      fill: #174EA6;\n",
              "    }\n",
              "\n",
              "    [theme=dark] .colab-df-convert {\n",
              "      background-color: #3B4455;\n",
              "      fill: #D2E3FC;\n",
              "    }\n",
              "\n",
              "    [theme=dark] .colab-df-convert:hover {\n",
              "      background-color: #434B5C;\n",
              "      box-shadow: 0px 1px 3px 1px rgba(0, 0, 0, 0.15);\n",
              "      filter: drop-shadow(0px 1px 2px rgba(0, 0, 0, 0.3));\n",
              "      fill: #FFFFFF;\n",
              "    }\n",
              "  </style>\n",
              "\n",
              "      <script>\n",
              "        const buttonEl =\n",
              "          document.querySelector('#df-973818e4-f8d3-4884-a64c-7dfe71799e27 button.colab-df-convert');\n",
              "        buttonEl.style.display =\n",
              "          google.colab.kernel.accessAllowed ? 'block' : 'none';\n",
              "\n",
              "        async function convertToInteractive(key) {\n",
              "          const element = document.querySelector('#df-973818e4-f8d3-4884-a64c-7dfe71799e27');\n",
              "          const dataTable =\n",
              "            await google.colab.kernel.invokeFunction('convertToInteractive',\n",
              "                                                     [key], {});\n",
              "          if (!dataTable) return;\n",
              "\n",
              "          const docLinkHtml = 'Like what you see? Visit the ' +\n",
              "            '<a target=\"_blank\" href=https://colab.research.google.com/notebooks/data_table.ipynb>data table notebook</a>'\n",
              "            + ' to learn more about interactive tables.';\n",
              "          element.innerHTML = '';\n",
              "          dataTable['output_type'] = 'display_data';\n",
              "          await google.colab.output.renderOutput(dataTable, element);\n",
              "          const docLink = document.createElement('div');\n",
              "          docLink.innerHTML = docLinkHtml;\n",
              "          element.appendChild(docLink);\n",
              "        }\n",
              "      </script>\n",
              "    </div>\n",
              "  </div>\n",
              "  "
            ],
            "text/plain": [
              "       id  periodo  ...  locacoes_registradas  total_locacoes\n",
              "ano                 ...                                      \n",
              "0    8645     8645  ...                  8645            8645\n",
              "1    8734     8734  ...                  8734            8734\n",
              "\n",
              "[2 rows x 16 columns]"
            ]
          },
          "metadata": {},
          "execution_count": 58
        }
      ]
    },
    {
      "cell_type": "markdown",
      "source": [
        "Existem 8.645 registros para o ano de 2011 e 8.734 registros para o ano de 2012."
      ],
      "metadata": {
        "id": "f_SylwPw6GBf"
      }
    },
    {
      "cell_type": "markdown",
      "source": [
        " Quantas locações de bicicletas foram efetuadas em 2011 e quantas foram efetuadas em 2012?\n"
      ],
      "metadata": {
        "id": "L0uZ3IwY6aAq"
      }
    },
    {
      "cell_type": "code",
      "source": [
        "#Vamos selecionar apenas os dados do ano 0 (2011) em um\n",
        "a2011=bike['ano']==0\n",
        "#Criando um filtro para os dados do anos 2011\n",
        "filtro1 = bike[a2011]\n",
        "filtro1.total_locacoes.sum()\n"
      ],
      "metadata": {
        "id": "GaZnsjH1H9VM",
        "colab": {
          "base_uri": "https://localhost:8080/"
        },
        "outputId": "9f9e1e0c-50a6-4aac-da1e-2d51a453c2c8"
      },
      "execution_count": 60,
      "outputs": [
        {
          "output_type": "execute_result",
          "data": {
            "text/plain": [
              "1243103"
            ]
          },
          "metadata": {},
          "execution_count": 60
        }
      ]
    },
    {
      "cell_type": "code",
      "source": [
        "#Criando um filtro para os dados do anos 2011\n",
        "filtro1 = bike[a2011]\n",
        "filtro1.total_count.sum()\n"
      ],
      "metadata": {
        "colab": {
          "base_uri": "https://localhost:8080/"
        },
        "id": "2KU8K4eX2GNt",
        "outputId": "afd6852d-5b2b-4074-f10e-3dff73dd1c01"
      },
      "execution_count": null,
      "outputs": [
        {
          "output_type": "execute_result",
          "data": {
            "text/plain": [
              "1243103"
            ]
          },
          "metadata": {},
          "execution_count": 462
        }
      ]
    },
    {
      "cell_type": "code",
      "source": [
        "#Faremos o mesmo para o ano de 2012. \n",
        "a2012=bike['ano']==1\n",
        "filtro2 = bike[a2012]\n",
        "filtro2.total_locacoes.sum()"
      ],
      "metadata": {
        "colab": {
          "base_uri": "https://localhost:8080/"
        },
        "id": "7nfMtWOwKik8",
        "outputId": "80b4acfd-40dc-4712-fe66-98495fedd608"
      },
      "execution_count": 61,
      "outputs": [
        {
          "output_type": "execute_result",
          "data": {
            "text/plain": [
              "2049576"
            ]
          },
          "metadata": {},
          "execution_count": 61
        }
      ]
    },
    {
      "cell_type": "markdown",
      "source": [
        "Em 2011 houveram 1.243.103 locações de bicicletas e em 2012 houveram 2.049.576."
      ],
      "metadata": {
        "id": "4rfIzVvRNBHP"
      }
    },
    {
      "cell_type": "markdown",
      "source": [
        "Qual estação do ano contém a **maior** média de locações de bicicletas? \n",
        "Qual estação do ano contém a **menor** média de locações de bicicletas? "
      ],
      "metadata": {
        "id": "p-n9jRhGLhCM"
      }
    },
    {
      "cell_type": "code",
      "source": [
        "np.unique(bike['season'])"
      ],
      "metadata": {
        "colab": {
          "base_uri": "https://localhost:8080/"
        },
        "id": "3a_aPrVHPzo_",
        "outputId": "db5a6865-217a-4953-abbf-ba7a47422ee9"
      },
      "execution_count": null,
      "outputs": [
        {
          "output_type": "execute_result",
          "data": {
            "text/plain": [
              "array([1, 2, 3, 4])"
            ]
          },
          "metadata": {},
          "execution_count": 464
        }
      ]
    },
    {
      "cell_type": "code",
      "source": [
        "s1=bike['estacoes']==1   #criando a variáel s1 com apenas a estação 1 (inverno).\n",
        "f1 = bike[s1]            #variável f1 com os dados da s1.\n",
        "tem1 = f1.total_locacoes.mean() #variável tem1 com a média das locações da f1.\n",
        "temp1 = round(tem1, 2)   #variável temp1 com o arredondamento de duas casasn da tem1.\n",
        "temp1"
      ],
      "metadata": {
        "colab": {
          "base_uri": "https://localhost:8080/"
        },
        "id": "iyp4K_RXaBki",
        "outputId": "c33dc884-c59c-47f5-d38b-60f0416a3460"
      },
      "execution_count": 79,
      "outputs": [
        {
          "output_type": "execute_result",
          "data": {
            "text/plain": [
              "111.11"
            ]
          },
          "metadata": {},
          "execution_count": 79
        }
      ]
    },
    {
      "cell_type": "code",
      "source": [
        "s2=bike['estacoes']==2\n",
        "f2 = bike[s2]\n",
        "tem2 = f2.total_locacoes.mean()\n",
        "temp2 = round(tem2, 2)\n",
        "temp2\n"
      ],
      "metadata": {
        "colab": {
          "base_uri": "https://localhost:8080/"
        },
        "id": "JRDCp3TJX1SY",
        "outputId": "3182cc46-d53e-458e-db1d-78e5841e0972"
      },
      "execution_count": 80,
      "outputs": [
        {
          "output_type": "execute_result",
          "data": {
            "text/plain": [
              "208.34"
            ]
          },
          "metadata": {},
          "execution_count": 80
        }
      ]
    },
    {
      "cell_type": "code",
      "source": [
        "s3=bike['estacoes']==3\n",
        "f3 = bike[s3]\n",
        "tem3 = f3.total_locacoes.mean()\n",
        "temp3 = round(tem3, 2)\n",
        "temp3"
      ],
      "metadata": {
        "colab": {
          "base_uri": "https://localhost:8080/"
        },
        "id": "dXc35WLuYB6_",
        "outputId": "888f81d1-beda-4bf8-8d58-494c8b05c4f6"
      },
      "execution_count": 83,
      "outputs": [
        {
          "output_type": "execute_result",
          "data": {
            "text/plain": [
              "236.02"
            ]
          },
          "metadata": {},
          "execution_count": 83
        }
      ]
    },
    {
      "cell_type": "code",
      "source": [
        "s4=bike['estacoes']==4\n",
        "f4 = bike[s4]\n",
        "tem4 = f4.total_locacoes.mean()\n",
        "temp4 = round(tem4, 2)\n",
        "temp4\n"
      ],
      "metadata": {
        "colab": {
          "base_uri": "https://localhost:8080/"
        },
        "id": "zOWxEkH6YFWL",
        "outputId": "912ea18d-3df9-49d2-fdbf-2b85f091178c"
      },
      "execution_count": 84,
      "outputs": [
        {
          "output_type": "execute_result",
          "data": {
            "text/plain": [
              "198.87"
            ]
          },
          "metadata": {},
          "execution_count": 84
        }
      ]
    },
    {
      "cell_type": "code",
      "source": [
        "import seaborn as sns\n",
        "import matplotlib.pyplot as plt"
      ],
      "metadata": {
        "id": "colpRpRksgN3"
      },
      "execution_count": 53,
      "outputs": []
    },
    {
      "cell_type": "code",
      "source": [
        "fig, ax = plt.subplots()\n",
        "sns.barplot(x=bike['estacoes'], y=bike['total_locacoes'], ax=ax, data=bike,\n",
        "            color = 'DeepSkyBlue',\n",
        "            edgecolor = 'Aqua')       #definindo x e y.\n",
        "ax.set(title = \"Estações do ano\",     #Título do gráfico.\n",
        "       xlabel = \"Estações\",           #Título eixo x.\n",
        "       ylabel = \"Total de Locações\"); #Título eixo y.\n",
        "fig.tight_layout();                   #otimizar espaço da figura"
      ],
      "metadata": {
        "colab": {
          "base_uri": "https://localhost:8080/",
          "height": 297
        },
        "id": "TYZDvLfiyZJA",
        "outputId": "a5069883-783b-46f8-f23e-4282cf376edf"
      },
      "execution_count": 110,
      "outputs": [
        {
          "output_type": "display_data",
          "data": {
            "image/png": "[encoded data removed]",
            "text/plain": [
              "<Figure size 432x288 with 1 Axes>"
            ]
          },
          "metadata": {
            "needs_background": "light"
          }
        }
      ]
    },
    {
      "cell_type": "markdown",
      "source": [
        "Qual horário do dia contém a **maior** média de locações de bicicletas?  <br>\n",
        "Qual horário do dia contém a **menor** média de locações de bicicletas? \n",
        "\n"
      ],
      "metadata": {
        "id": "flyzvSMqfUjU"
      }
    },
    {
      "cell_type": "code",
      "source": [
        "fig, ax = plt.subplots()\n",
        "sns.barplot(x=bike['hora'], y=bike['total_locacoes'], ax=ax, data=bike,\n",
        "            color = 'DeepSkyBlue',\n",
        "            edgecolor = 'Aqua')       #definindo x e y.\n",
        "ax.set(title = \"Horário diário\",      #Título do gráfico.\n",
        "       xlabel = \"Horário\",            #Título eixo x.\n",
        "       ylabel = \"Total de Locações\"); #Título eixo y.\n",
        "fig.tight_layout();                   #otimizar espaço da figura"
      ],
      "metadata": {
        "colab": {
          "base_uri": "https://localhost:8080/",
          "height": 297
        },
        "id": "cF0ZcNUWsdu5",
        "outputId": "e2cc040e-10c2-4974-a2c8-299bab0dab15"
      },
      "execution_count": 118,
      "outputs": [
        {
          "output_type": "display_data",
          "data": {
            "image/png": "[encoded data removed]",
            "text/plain": [
              "<Figure size 432x288 with 1 Axes>"
            ]
          },
          "metadata": {
            "needs_background": "light"
          }
        }
      ]
    },
    {
      "cell_type": "markdown",
      "source": [
        "Que dia da semana contém a **maior** média de locações de bicicletas? <br>\n",
        "Que dia da semana contém a **menor** média de locações de bicicletas? \n",
        "\n"
      ],
      "metadata": {
        "id": "31aV99hywggV"
      }
    },
    {
      "cell_type": "code",
      "source": [
        ""
      ],
      "metadata": {
        "id": "YZORWOgXDrf3"
      },
      "execution_count": null,
      "outputs": []
    },
    {
      "cell_type": "code",
      "source": [
        "fig, ax = plt.subplots()\n",
        "sns.barplot(x=bike['dia_da_semana'], y=bike['total_locacoes'], ax=ax, data=bike,\n",
        "            color = 'DeepSkyBlue',\n",
        "            edgecolor = 'Aqua')              #definindo x e y.\n",
        "ax.set(title = \"Dia da semana x Locações\",   #Título do gráfico.\n",
        "       xlabel = \"Dia da semana\",             #Título eixo x.\n",
        "       ylabel = \"Total de Locações\");        #Título eixo y.\n",
        "fig.tight_layout();                           #otimizar espaço da figura"
      ],
      "metadata": {
        "colab": {
          "base_uri": "https://localhost:8080/",
          "height": 297
        },
        "id": "bz3SkcvVud_-",
        "outputId": "8c140377-6ef1-412f-898a-b2af0b134a45"
      },
      "execution_count": 120,
      "outputs": [
        {
          "output_type": "display_data",
          "data": {
            "image/png": "[encoded data removed]",
            "text/plain": [
              "<Figure size 432x288 with 1 Axes>"
            ]
          },
          "metadata": {
            "needs_background": "light"
          }
        }
      ]
    },
    {
      "cell_type": "markdown",
      "source": [
        "Às quartas-feiras (weekday = 3), qual horário do dia contém a **maior** média de locações de bicicletas? "
      ],
      "metadata": {
        "id": "rmx0W9eiwwex"
      }
    },
    {
      "cell_type": "code",
      "source": [
        "quarta = bike[bike['weekday']==3].groupby('hour')['total_count'].mean()\n",
        "quarta"
      ],
      "metadata": {
        "colab": {
          "base_uri": "https://localhost:8080/"
        },
        "id": "VaN4B8jD3KIh",
        "outputId": "75d4d79a-b1d1-4b1f-db84-c4a25eb31cd9"
      },
      "execution_count": null,
      "outputs": [
        {
          "output_type": "execute_result",
          "data": {
            "text/plain": [
              "hour\n",
              "0      34.557692\n",
              "1      15.336538\n",
              "2       7.813725\n",
              "3       4.888889\n",
              "4       4.968750\n",
              "5      25.750000\n",
              "6     107.807692\n",
              "7     303.980769\n",
              "8     488.326923\n",
              "9     238.528846\n",
              "10    131.894231\n",
              "11    152.201923\n",
              "12    193.903846\n",
              "13    185.826923\n",
              "14    170.548077\n",
              "15    181.288462\n",
              "16    272.961538\n",
              "17    513.144231\n",
              "18    494.029126\n",
              "19    357.504854\n",
              "20    256.660194\n",
              "21    194.669903\n",
              "22    143.689320\n",
              "23     83.737864\n",
              "Name: total_count, dtype: float64"
            ]
          },
          "metadata": {},
          "execution_count": 479
        }
      ]
    },
    {
      "cell_type": "code",
      "source": [
        "plt.plot(quarta)"
      ],
      "metadata": {
        "id": "4FVHJIqdxy2t",
        "colab": {
          "base_uri": "https://localhost:8080/",
          "height": 282
        },
        "outputId": "216d56b5-4823-4506-83aa-f2eb8f62dc58"
      },
      "execution_count": null,
      "outputs": [
        {
          "output_type": "execute_result",
          "data": {
            "text/plain": [
              "[<matplotlib.lines.Line2D at 0x7fe5ac837310>]"
            ]
          },
          "metadata": {},
          "execution_count": 473
        },
        {
          "output_type": "display_data",
          "data": {
            "image/png": "[encoded data removed]",
            "text/plain": [
              "<Figure size 432x288 with 1 Axes>"
            ]
          },
          "metadata": {
            "needs_background": "light"
          }
        }
      ]
    },
    {
      "cell_type": "code",
      "source": [
        "sabado = bike[bike['weekday']==6].groupby('hour')['total_count'].mean()\n",
        "sabado"
      ],
      "metadata": {
        "colab": {
          "base_uri": "https://localhost:8080/"
        },
        "id": "UKghkDU2DLxX",
        "outputId": "3b85298a-7440-4a43-8e27-d6bd2005831f"
      },
      "execution_count": null,
      "outputs": [
        {
          "output_type": "execute_result",
          "data": {
            "text/plain": [
              "hour\n",
              "0      94.304762\n",
              "1      67.780952\n",
              "2      50.495238\n",
              "3      22.885714\n",
              "4       7.657143\n",
              "5       8.291262\n",
              "6      21.000000\n",
              "7      45.961905\n",
              "8     114.476190\n",
              "9     186.790476\n",
              "10    263.723810\n",
              "11    328.609524\n",
              "12    375.380952\n",
              "13    385.371429\n",
              "14    381.333333\n",
              "15    382.428571\n",
              "16    366.142857\n",
              "17    334.409524\n",
              "18    292.048077\n",
              "19    239.932692\n",
              "20    180.865385\n",
              "21    156.000000\n",
              "22    139.663462\n",
              "23    115.855769\n",
              "Name: total_count, dtype: float64"
            ]
          },
          "metadata": {},
          "execution_count": 474
        }
      ]
    },
    {
      "cell_type": "code",
      "source": [
        "plt.plot(sabado)"
      ],
      "metadata": {
        "colab": {
          "base_uri": "https://localhost:8080/",
          "height": 284
        },
        "id": "43AdhaFJDSQX",
        "outputId": "84718662-1493-4965-d5ff-5b03bf6ed6d7"
      },
      "execution_count": null,
      "outputs": [
        {
          "output_type": "execute_result",
          "data": {
            "text/plain": [
              "[<matplotlib.lines.Line2D at 0x7fe5ac6a6410>]"
            ]
          },
          "metadata": {},
          "execution_count": 475
        },
        {
          "output_type": "display_data",
          "data": {
            "image/png": "[encoded data removed]",
            "text/plain": [
              "<Figure size 432x288 with 1 Axes>"
            ]
          },
          "metadata": {
            "needs_background": "light"
          }
        }
      ]
    }
  ]
}